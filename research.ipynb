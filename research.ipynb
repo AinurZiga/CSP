{
 "cells": [
  {
   "cell_type": "code",
   "execution_count": 1,
   "metadata": {},
   "outputs": [],
   "source": [
    "import numpy as np\n",
    "import matplotlib.pyplot as plt"
   ]
  },
  {
   "cell_type": "code",
   "execution_count": 7,
   "metadata": {},
   "outputs": [
    {
     "data": {
      "text/plain": [
       "array([29.,  2., 19.])"
      ]
     },
     "execution_count": 7,
     "metadata": {},
     "output_type": "execute_result"
    }
   ],
   "source": [
    "# Experiment\n",
    "ampl = np.array([[5188, 4571, 5012], \n",
    "                [4624, 4266, 4732], \n",
    "                [4571, 3631, 3758]])\n",
    "phase = np.array([[0, 11, -30], \n",
    "                  [-12, 0, -30], [140, 0 ,0]])\n",
    "phase0 = np.array([[23, 34, -7], \n",
    "                  [-12, 0, -30], [108, -112, -112]])\n",
    "H_exp = ampl @ np.exp(-1j*phase0/57.3)\n",
    "H_exp = np.dot(H_exp,np.matrix(H_exp, dtype=complex).H)\n",
    "w, v = np.linalg.eig((H_exp))\n",
    "np.round(np.log2(abs(w)))"
   ]
  },
  {
   "cell_type": "code",
   "execution_count": 8,
   "metadata": {},
   "outputs": [],
   "source": [
    "def dist(p1, p2):\n",
    "    d = 0\n",
    "    for i in range(len(p1)):\n",
    "        d += (p1[i]-p2[i])**2\n",
    "    return np.sqrt(d)\n",
    "    \n",
    "Pt = 19   # dBm\n",
    "G = 5\n",
    "fc = 5.6*10**9   # Hz\n",
    "c = 3*10**8\n",
    "lyam = c / fc\n",
    "k = 2*np.pi / lyam\n",
    "delta_d = 82 / 1000    # m\n",
    "h = 2    # m\n",
    "coordinates1 = [0.0, -delta_d, h]\n",
    "coordinates2 = [3.0, -delta_d, h]\n",
    "#print(dist(coordinates1, coordinates2) - dist([0.0, 0.0, h], [3.0, 2*delta_d, h]))\n"
   ]
  },
  {
   "cell_type": "code",
   "execution_count": 9,
   "metadata": {},
   "outputs": [
    {
     "name": "stdout",
     "output_type": "stream",
     "text": [
      "[[5553.70820598 4868.65251382 4584.75534754]\n",
      " [5239.85568532 5208.247201   3798.73180973]\n",
      " [3244.14720244 2734.59417157 3732.59765536]]\n",
      "[[ -8.7517439  -10.4830265  -21.01026016]\n",
      " [-19.65910301   6.49687733 -17.71399673]\n",
      " [-19.68163304 -24.99412413 -21.9269315 ]]\n"
     ]
    },
    {
     "data": {
      "image/png": "[encoded data removed]",
      "text/plain": [
       "<Figure size 432x288 with 1 Axes>"
      ]
     },
     "metadata": {
      "needs_background": "light"
     },
     "output_type": "display_data"
    }
   ],
   "source": [
    "#  Stochastic 2D\n",
    "d = dist(coordinates1, coordinates2)\n",
    "w1 = np.zeros(3, dtype='complex')\n",
    "H_list = [[0 for i in range(3)] for i2 in range(3)]\n",
    "Hl = [[0, 0, 0],\n",
    "     [0, 0, 0],\n",
    "     [0, 0, 0]]\n",
    "H_gbsm = np.array(H_list, dtype='complex')\n",
    "K_rice = 3\n",
    "\n",
    "N_size = 100\n",
    "a_scat = -1 / np.sqrt(N_size*K_rice)\n",
    "#r = np.random.exponential(scale=1.0, size = [1, N_size])+1.0\n",
    "r = 2.0\n",
    "azimuth = 2*np.pi*np.random.uniform(size = [1, N_size])\n",
    "x_scat = r * np.cos(azimuth) +3.0\n",
    "y_scat = r * np.sin(azimuth)\n",
    "fig, ax = plt.subplots()\n",
    "\n",
    "for i1 in range(3):\n",
    "    coord1 = list(coordinates1)\n",
    "    coord1[1] = delta_d*i1  \n",
    "    \n",
    "    ax.scatter(coord1[0], coord1[1])\n",
    "    for i2 in range(3):\n",
    "        coord2 = list(coordinates2)\n",
    "        coord2[1] = delta_d*i2  \n",
    "        \n",
    "        ax.scatter(coord2[0], coord2[1])\n",
    "        \n",
    "        d1 = dist(coord1, coord2)\n",
    "        ray1 = (1/d1) * np.exp(-1j*k*d1)\n",
    "        rays = ray1\n",
    "        for i in range(N_size):\n",
    "            scat_coord = np.array([x_scat[0,i], y_scat[0,i], 0.0])\n",
    "            dist_scat = dist(coord1, scat_coord) + dist(scat_coord, coord2)\n",
    "            scat_ray = a_scat * (1/dist_scat)*np.exp(-1j*k*dist_scat)\n",
    "            rays += scat_ray\n",
    "        a_ampl = (lyam/4/np.pi) * rays \n",
    "        ph2 = -1*np.arctan2(np.imag(a_ampl), np.real(a_ampl))\n",
    "\n",
    "        a_db = 20*np.log10(np.abs(a_ampl)) + G\n",
    "        snr_db = a_db + 119 + 5.1\n",
    "        snr = 10**(snr_db/20)\n",
    "        H_gbsm[2-i1, 2-i2] = snr*np.exp(1j*ph2)\n",
    "print(abs(H_gbsm))\n",
    "print(-57.3*np.arctan2(np.imag(H_gbsm), np.real(H_gbsm)))\n",
    "\n",
    "#fig, ax = plt.subplots()\n",
    "ax.scatter(x_scat, y_scat)\n",
    "\n",
    "plt.grid()\n",
    "plt.savefig(\"a2.jpg\")\n",
    "plt.show()"
   ]
  },
  {
   "cell_type": "code",
   "execution_count": null,
   "metadata": {},
   "outputs": [],
   "source": []
  },
  {
   "cell_type": "code",
   "execution_count": 10,
   "metadata": {},
   "outputs": [
    {
     "name": "stdout",
     "output_type": "stream",
     "text": [
      "[[ -6.52431206  -6.61725316 -15.30377546]\n",
      " [ -6.61725316  11.13043149   3.45141274]\n",
      " [-15.30377546   3.45141274  -3.19408051]]\n"
     ]
    },
    {
     "data": {
      "text/plain": [
       "array([[4286.30472896, 5275.59754728, 4642.66156417],\n",
       "       [5275.59754728, 5001.74473109, 3886.96160692],\n",
       "       [4642.66156417, 3886.96160692, 3826.85505455]])"
      ]
     },
     "execution_count": 10,
     "metadata": {},
     "output_type": "execute_result"
    }
   ],
   "source": [
    "# (New) Ray-based model\n",
    "H_list = [[0 for i in range(3)] for i2 in range(3)]\n",
    "H = np.array(H_list, dtype='complex')\n",
    "#a_scat = -0.5\n",
    "K_rice = 3\n",
    "a_scat = -1 / np.sqrt(3*K_rice)\n",
    "for i in range(3):\n",
    "    coord1 = list(coordinates1)\n",
    "    coord1[1] = delta_d*(i - 1)    \n",
    "    for i2 in range(3):\n",
    "        coord2 = list(coordinates2)\n",
    "        coord2[1] = delta_d*(i2 - 1)\n",
    "        \n",
    "        dist1 = dist(coord1, coord2)\n",
    "        ray1 = (1/dist1) * np.exp(-1j*k*dist1)\n",
    "        \n",
    "        coord12 = list(coord1)\n",
    "        coord12[1] = -(coord1[1] + 4)\n",
    "        dist2 = dist(coord12, coord2)\n",
    "        ray2 = a_scat*(1/dist2) * np.exp(-1j*k*dist2)\n",
    "        \n",
    "        coord13 = list(coord1)\n",
    "        coord13[0] = -(coord1[0] + 6.2)\n",
    "        dist3 = dist(coord13, coord2)\n",
    "        ray3 = a_scat*(1/dist3) * np.exp(-1j*k*dist3)\n",
    "\n",
    "        coord14 = list(coord1)\n",
    "        coord14[2] = -coord1[2]\n",
    "        dist4 = dist(coord14, coord2)\n",
    "        ray4 = a_scat*(1/dist4) * np.exp(-1j*k*dist4)\n",
    "        \n",
    "        a_ampl = (lyam/4/np.pi) * (ray1 + ray2 + ray3 + ray4)\n",
    "        ph2 = -1*np.arctan2(np.imag(a_ampl), np.real(a_ampl))\n",
    "\n",
    "        a_db = 20*np.log10(np.abs(a_ampl)) + G\n",
    "        snr_db = a_db + 119 + 5.1\n",
    "        snr = 10**(snr_db/20)\n",
    "        H[2-i, 2-i2] = snr*np.exp(1j*ph2)\n",
    "#w = np.linalg.eigvals((H@H))\n",
    "#np.round(np.log2(abs(w)))\n",
    "print(-57.3*np.arctan2(np.imag(H), np.real(H)))\n",
    "abs(H)"
   ]
  },
  {
   "cell_type": "code",
   "execution_count": 14,
   "metadata": {},
   "outputs": [
    {
     "data": {
      "text/plain": [
       "array([[4051.37187606, 4049.85931107, 4045.33176072],\n",
       "       [4049.85931107, 4051.37187606, 4049.85931107],\n",
       "       [4045.33176072, 4049.85931107, 4051.37187606]])"
      ]
     },
     "execution_count": 14,
     "metadata": {},
     "output_type": "execute_result"
    }
   ],
   "source": [
    "# Free-space calculations\n",
    "offset = 0.0\n",
    "H_list = [[0 for i in range(3)] for i2 in range(3)]\n",
    "\n",
    "H2 = np.array(H_list, dtype='complex')\n",
    "for i in range(3):\n",
    "    coord1 = list(coordinates1)\n",
    "    coord1[1] = delta_d*i    \n",
    "    for i2 in range(3):\n",
    "        coord2 = list(coordinates2)\n",
    "        coord2[1] = delta_d*i2\n",
    "\n",
    "        d1 = dist(coord1, coord2)\n",
    "        line1 = (1/d1) * np.exp(-1j*k*d1)\n",
    "        l1 = 1/d1\n",
    "        coord2_inv = list(coord2)\n",
    "        coord2_inv[2] = -coord2_inv[2]\n",
    "        d2 = dist(coord1, coord2_inv)\n",
    "        line2 = (1/d2) * np.exp(-1j*k*d2)\n",
    "        a_ampl = (lyam/4/np.pi) * (line1)\n",
    "        ph2 = -1*np.arctan2(np.imag(a_ampl), np.real(a_ampl))\n",
    "\n",
    "        a_db = 20*np.log10(np.abs(a_ampl)) + G\n",
    "        #a1  = (4*np.pi*d1/lyam)**2\n",
    "        snr_db = a_db + 119 + 5.1\n",
    "        #print(a_db)\n",
    "        snr = 10**(snr_db/20)\n",
    "        #print(snr)\n",
    "        H2[i, i2] = snr*np.exp(1j*ph2)\n",
    "#H2_sq = np.dot(H2,np.matrix(H2, dtype=complex).H)\n",
    "#w2 = np.linalg.eigvals((H2_sq))\n",
    "#np.round(np.log2(abs(w2)))\n",
    "abs(H2)"
   ]
  },
  {
   "cell_type": "code",
   "execution_count": 18,
   "metadata": {},
   "outputs": [
    {
     "name": "stdout",
     "output_type": "stream",
     "text": [
      "[[ 10.18456839  -0.2042066  -47.10837185]\n",
      " [  2.84338675   9.65019965 -29.5920031 ]\n",
      " [-18.79742149   4.53454357 -28.411402  ]]\n"
     ]
    },
    {
     "data": {
      "text/plain": [
       "array([[4604.58250836, 5791.1429794 , 3510.48931464],\n",
       "       [4641.53004351, 6387.1792565 , 3683.44988726],\n",
       "       [4753.66851219, 6732.68088295, 3647.75303612]])"
      ]
     },
     "execution_count": 18,
     "metadata": {},
     "output_type": "execute_result"
    }
   ],
   "source": [
    "# Fading\n",
    "K_rice = 3\n",
    "H_fading = np.zeros([3, 3], dtype = 'complex')\n",
    "N_fading_times = 1\n",
    "for n in range(N_fading_times):\n",
    "    H_NLOS = H2 @ (np.random.randn(3,3)+1j*np.random.randn(3,3))*np.sqrt(1/2/(K_rice+1))\n",
    "    H_LOS = H2 * np.sqrt(K_rice/(K_rice+1))\n",
    "    H_fad_tmp = H_NLOS + H_LOS\n",
    "    H_fading += H_fad_tmp\n",
    "H_fading /= N_fading_times\n",
    "#H2_sq = np.dot(H_fading,np.matrix(H_fading, dtype=complex).H)\n",
    "#w2 = np.linalg.eigvals((H2_sq))\n",
    "#np.round(np.log2(abs(w2)))\n",
    "print(-57.3*np.arctan2(np.imag(H_fading), np.real(H_fading)))\n",
    "abs(H_fading)"
   ]
  },
  {
   "cell_type": "code",
   "execution_count": 19,
   "metadata": {},
   "outputs": [
    {
     "name": "stdout",
     "output_type": "stream",
     "text": [
      "[[  0.77838781  -2.38118826 -21.8655661 ]\n",
      " [ -0.88514093   0.68091171 -16.36398326]\n",
      " [ -8.14192677  -2.01202388 -16.96304914]]\n"
     ]
    },
    {
     "data": {
      "text/plain": [
       "array([[4390.32255874, 5128.01205207, 3665.35123055],\n",
       "       [4831.52132695, 5755.5895521 , 4133.71236498],\n",
       "       [4577.49064987, 5525.0002811 , 3960.75187356]])"
      ]
     },
     "execution_count": 19,
     "metadata": {},
     "output_type": "execute_result"
    }
   ],
   "source": [
    "from scipy.linalg import fractional_matrix_power\n",
    "\n",
    "Rr = np.array([[1.0, 0.6, 0.4], [0.6, 1.0, 0.6], [0.4, 0.6, 1.0]])\n",
    "#Rt = np.array([[1.0, 0.6, 0.4], [0.6, 1.0, 0.6], [0.4, 0.6, 1.0]])\n",
    "Rt = np.array(Rr)\n",
    "\n",
    "Rr_half = fractional_matrix_power(Rr, 0.5)\n",
    "Rt_half = fractional_matrix_power(Rt, 0.5)\n",
    "Rt_half_H = np.conj(Rt_half).T\n",
    "#print(Rr_half)\n",
    "\n",
    "#H_kron = np.dot(np.dot(H_fading, Rt_half_H), Rt_half_H)\n",
    "Hw = H_fading / np.max(H2)\n",
    "H_kron = np.dot(Rr_half, np.dot(Hw, Rt_half_H))\n",
    "coef = np.max(np.sum(H_fading) / np.max(np.sum(H_kron)))\n",
    "#print(coef)\n",
    "print(-57.3*np.arctan2(np.imag(H_kron), np.real(H_kron)))\n",
    "abs(H_kron*coef)"
   ]
  },
  {
   "cell_type": "code",
   "execution_count": 20,
   "metadata": {},
   "outputs": [
    {
     "name": "stdout",
     "output_type": "stream",
     "text": [
      "4854.338878740481\n",
      "4851.620607794256\n",
      "4843.48705997248\n",
      "4851.620607794256\n",
      "4854.338878740481\n",
      "4851.620607794256\n",
      "4843.48705997248\n",
      "4851.620607794256\n",
      "4854.338878740481\n"
     ]
    }
   ],
   "source": [
    "# ITUR 1238\n",
    "N = 30\n",
    "log_f = 20*np.log10(fc*10**-6)\n",
    "for i in range(3):\n",
    "    coord1 = list(coordinates1)\n",
    "    coord1[1] = delta_d*i    \n",
    "    for j in range(3):\n",
    "        coord2 = list(coordinates2)\n",
    "        coord2[1] = delta_d*j\n",
    "        d = dist(coord1, coord2)\n",
    "        L_itur = log_f + N*np.log10(d) - 28\n",
    "        snr_itur = Pt - L_itur + 100 + 16\n",
    "        snr = 10**(snr_itur/20)\n",
    "        print(snr)"
   ]
  },
  {
   "cell_type": "code",
   "execution_count": 133,
   "metadata": {},
   "outputs": [
    {
     "data": {
      "image/png": "[encoded data removed]",
      "text/plain": [
       "<Figure size 432x288 with 1 Axes>"
      ]
     },
     "metadata": {
      "needs_background": "light"
     },
     "output_type": "display_data"
    }
   ],
   "source": [
    "# Phase response\n",
    "freq_lin = np.linspace(5.6, 5.62, 100)\n",
    "c = 3*10**8\n",
    "lam_lin = c / freq_lin / 10**9\n",
    "k_lin = 2*np.pi / lam_lin\n",
    "d1 = dist(coordinates1, coordinates2)\n",
    "coord2_inv = list(coordinates2)\n",
    "coord2_inv[2] = -coord2_inv[2]\n",
    "d2 = dist(coordinates1, coord2_inv)\n",
    "\n",
    "\n",
    "line1 = (1/d1) * np.exp(-1j*k_lin*d1)\n",
    "line2 = (1/d2) * np.exp(-1j*k_lin*d2)\n",
    "a = (lam_lin/4/np.pi) * (line1 - 0.01*line2)\n",
    "phase = np.arctan2(np.imag(a), np.real(a))*57.3\n",
    "#print(d2)\n",
    "plt.plot(freq_lin, phase)\n",
    "plt.show()"
   ]
  },
  {
   "cell_type": "code",
   "execution_count": 43,
   "metadata": {},
   "outputs": [
    {
     "data": {
      "text/plain": [
       "array([[3758.37404288, 4623.81021399, 5011.87233627],\n",
       "       [3630.7805477 , 4315.19076828, 4570.88189615],\n",
       "       [4623.81021399, 4623.81021399, 5188.00038929]])"
      ]
     },
     "execution_count": 43,
     "metadata": {},
     "output_type": "execute_result"
    }
   ],
   "source": [
    "H1 = [[-47.5*np.exp(-1.95j), -45.7*np.exp(0.52j), -45.0*np.exp(-0.12j)],\n",
    "     [-47.8*np.exp(-1.95j), -46.3*np.exp(0.0j), -45.8*np.exp(0.59j)],\n",
    "     [-45.7*np.exp(1.87j), -45.7*np.exp(-0.21j), -44.7*np.exp(0.4j)]]\n",
    "H1 = np.array(H1, dtype = 'complex')\n",
    "H1_tm = 10**((-abs(H1) + 119)/20)\n",
    "H1_tm"
   ]
  },
  {
   "cell_type": "code",
   "execution_count": 16,
   "metadata": {},
   "outputs": [
    {
     "name": "stdout",
     "output_type": "stream",
     "text": [
      "3758.374042884443\n",
      "4623.810213992608\n",
      "5011.872336272725\n",
      "3630.780547701021\n",
      "4315.190768277655\n",
      "4570.881896148751\n",
      "4623.810213992603\n",
      "4623.810213992603\n",
      "5188.000389289609\n"
     ]
    }
   ],
   "source": [
    "H1 = np.array(H1)\n",
    "H = -1*abs(H1)\n",
    "for i in range(3):\n",
    "    for j in range(3):\n",
    "        a = H[i][j] + 119\n",
    "        b = 10**(a/20)\n",
    "        print(b)"
   ]
  },
  {
   "cell_type": "code",
   "execution_count": 76,
   "metadata": {},
   "outputs": [
    {
     "data": {
      "text/plain": [
       "(array([[-8.16496581e-01,  1.85577521e-16, -5.77350269e-01],\n",
       "        [-4.08248290e-01, -7.07106781e-01,  5.77350269e-01],\n",
       "        [-4.08248290e-01,  7.07106781e-01,  5.77350269e-01]]),\n",
       " array([1.73205081, 1.        ]),\n",
       " array([[-0.70710678, -0.70710678],\n",
       "        [-0.70710678,  0.70710678]]))"
      ]
     },
     "execution_count": 76,
     "metadata": {},
     "output_type": "execute_result"
    }
   ],
   "source": [
    "A = np.array([[1, 1], [1, 0], [0, 1]])\n",
    "eig = np.linalg.svd(A)\n",
    "eig"
   ]
  },
  {
   "cell_type": "code",
   "execution_count": null,
   "metadata": {},
   "outputs": [],
   "source": []
  }
 ],
 "metadata": {
  "kernelspec": {
   "display_name": "Python 3",
   "language": "python",
   "name": "python3"
  },
  "language_info": {
   "codemirror_mode": {
    "name": "ipython",
    "version": 3
   },
   "file_extension": ".py",
   "mimetype": "text/x-python",
   "name": "python",
   "nbconvert_exporter": "python",
   "pygments_lexer": "ipython3",
   "version": "3.6.9"
  }
 },
 "nbformat": 4,
 "nbformat_minor": 4
}
