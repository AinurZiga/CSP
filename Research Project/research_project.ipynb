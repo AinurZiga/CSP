{
 "cells": [
  {
   "cell_type": "code",
   "execution_count": 15,
   "metadata": {},
   "outputs": [],
   "source": [
    "import numpy as np\n",
    "import matplotlib.pyplot as plt"
   ]
  },
  {
   "cell_type": "code",
   "execution_count": 16,
   "metadata": {},
   "outputs": [],
   "source": [
    "# Experiment\n",
    "ampl = np.array([[5188, 4571, 5012], \n",
    "                [4624, 4266, 4732], \n",
    "                [4571, 3631, 3758]])\n",
    "phase = np.array([[0, 11, -30], \n",
    "                  [-12, 0, -30], [140, 0 ,0]])\n",
    "phase0 = np.array([[23, 34, -7], \n",
    "                  [-12, 0, -30], [108, -112, -112]])\n",
    "H_exp = ampl @ np.exp(-1j*phase0/57.3)\n"
   ]
  },
  {
   "cell_type": "code",
   "execution_count": 17,
   "metadata": {},
   "outputs": [],
   "source": [
    "def dist(p1, p2):\n",
    "    d = 0\n",
    "    for i in range(len(p1)):\n",
    "        d += (p1[i]-p2[i])**2\n",
    "    return np.sqrt(d)\n",
    "    \n",
    "Pt = 19   # dBm\n",
    "G = 5\n",
    "fc = 5.6*10**9   # Hz\n",
    "c = 3*10**8\n",
    "lyam = c / fc\n",
    "k = 2*np.pi / lyam\n",
    "delta_d = 82 / 1000    # m\n",
    "h = 2    # m\n",
    "coordinates1 = [0.0, -delta_d, h]\n",
    "coordinates2 = [3.0, -delta_d, h]\n",
    "#print(dist(coordinates1, coordinates2) - dist([0.0, 0.0, h], [3.0, 2*delta_d, h]))\n"
   ]
  },
  {
   "cell_type": "code",
   "execution_count": 18,
   "metadata": {},
   "outputs": [
    {
     "name": "stdout",
     "output_type": "stream",
     "text": [
      "[[4727.41980723 4847.62308726 5020.72361265]\n",
      " [4217.7870563  5521.73607977 2783.35222192]\n",
      " [4137.32432246 2038.43750798 4753.86149723]]\n",
      "[[ -2.17733328 -21.79185234 -19.82152601]\n",
      " [-11.62563973   7.90635014  -5.34306262]\n",
      " [-29.85605021   5.03558058  -9.89957536]]\n"
     ]
    },
    {
     "data": {
      "image/png": "[encoded data removed]",
      "text/plain": [
       "<Figure size 432x288 with 1 Axes>"
      ]
     },
     "metadata": {
      "needs_background": "light"
     },
     "output_type": "display_data"
    }
   ],
   "source": [
    "#  Stochastic 2D\n",
    "d = dist(coordinates1, coordinates2)\n",
    "w1 = np.zeros(3, dtype='complex')\n",
    "H_list = [[0 for i in range(3)] for i2 in range(3)]\n",
    "Hl = [[0, 0, 0],\n",
    "     [0, 0, 0],\n",
    "     [0, 0, 0]]\n",
    "H_gbsm = np.array(H_list, dtype='complex')\n",
    "K_rice = 3\n",
    "\n",
    "N_size = 100\n",
    "a_scat = -1 / np.sqrt(N_size*K_rice)\n",
    "#r = np.random.exponential(scale=1.0, size = [1, N_size])+1.0\n",
    "r = 2.0\n",
    "azimuth = 2*np.pi*np.random.uniform(size = [1, N_size])\n",
    "x_scat = r * np.cos(azimuth) +3.0\n",
    "y_scat = r * np.sin(azimuth)\n",
    "fig, ax = plt.subplots()\n",
    "\n",
    "for i1 in range(3):\n",
    "    coord1 = list(coordinates1)\n",
    "    coord1[1] = delta_d*i1  \n",
    "    \n",
    "    ax.scatter(coord1[0], coord1[1])\n",
    "    for i2 in range(3):\n",
    "        coord2 = list(coordinates2)\n",
    "        coord2[1] = delta_d*i2  \n",
    "        \n",
    "        ax.scatter(coord2[0], coord2[1])\n",
    "        \n",
    "        d1 = dist(coord1, coord2)\n",
    "        ray1 = (1/d1) * np.exp(-1j*k*d1)\n",
    "        rays = ray1\n",
    "        for i in range(N_size):\n",
    "            scat_coord = np.array([x_scat[0,i], y_scat[0,i], 0.0])\n",
    "            dist_scat = dist(coord1, scat_coord) + dist(scat_coord, coord2)\n",
    "            scat_ray = a_scat * (1/dist_scat)*np.exp(-1j*k*dist_scat)\n",
    "            rays += scat_ray\n",
    "        a_ampl = (lyam/4/np.pi) * rays \n",
    "        ph2 = -1*np.arctan2(np.imag(a_ampl), np.real(a_ampl))\n",
    "\n",
    "        a_db = 20*np.log10(np.abs(a_ampl)) + G\n",
    "        snr_db = a_db + 119 + 5.1\n",
    "        snr = 10**(snr_db/20)\n",
    "        H_gbsm[2-i1, 2-i2] = snr*np.exp(1j*ph2)\n",
    "print(abs(H_gbsm))\n",
    "p_gbsm = -57.3*np.arctan2(np.imag(H_gbsm), np.real(H_gbsm))\n",
    "print(p_gbsm)\n",
    "\n",
    "#fig, ax = plt.subplots()\n",
    "ax.scatter(x_scat, y_scat)\n",
    "\n",
    "plt.grid()\n",
    "plt.savefig(\"a2.jpg\")\n",
    "plt.show()"
   ]
  },
  {
   "cell_type": "code",
   "execution_count": 19,
   "metadata": {},
   "outputs": [
    {
     "name": "stdout",
     "output_type": "stream",
     "text": [
      "[[ -6.52431206  -6.61725316 -15.30377546]\n",
      " [ -6.61725316  11.13043149   3.45141274]\n",
      " [-15.30377546   3.45141274  -3.19408051]]\n"
     ]
    },
    {
     "data": {
      "text/plain": [
       "array([[4286.30472896, 5275.59754728, 4642.66156417],\n",
       "       [5275.59754728, 5001.74473109, 3886.96160692],\n",
       "       [4642.66156417, 3886.96160692, 3826.85505455]])"
      ]
     },
     "execution_count": 19,
     "metadata": {},
     "output_type": "execute_result"
    }
   ],
   "source": [
    "# (New) Ray-based model\n",
    "H_list = [[0 for i in range(3)] for i2 in range(3)]\n",
    "H_det = np.array(H_list, dtype='complex')\n",
    "#a_scat = -0.5\n",
    "K_rice = 3\n",
    "a_scat = -1 / np.sqrt(3*K_rice)\n",
    "for i in range(3):\n",
    "    coord1 = list(coordinates1)\n",
    "    coord1[1] = delta_d*(i - 1)    \n",
    "    for i2 in range(3):\n",
    "        coord2 = list(coordinates2)\n",
    "        coord2[1] = delta_d*(i2 - 1)\n",
    "        \n",
    "        dist1 = dist(coord1, coord2)\n",
    "        ray1 = (1/dist1) * np.exp(-1j*k*dist1)\n",
    "        \n",
    "        coord12 = list(coord1)\n",
    "        coord12[1] = -(coord1[1] + 4)\n",
    "        dist2 = dist(coord12, coord2)\n",
    "        ray2 = a_scat*(1/dist2) * np.exp(-1j*k*dist2)\n",
    "        \n",
    "        coord13 = list(coord1)\n",
    "        coord13[0] = -(coord1[0] + 6.2)\n",
    "        dist3 = dist(coord13, coord2)\n",
    "        ray3 = a_scat*(1/dist3) * np.exp(-1j*k*dist3)\n",
    "\n",
    "        coord14 = list(coord1)\n",
    "        coord14[2] = -coord1[2]\n",
    "        dist4 = dist(coord14, coord2)\n",
    "        ray4 = a_scat*(1/dist4) * np.exp(-1j*k*dist4)\n",
    "        \n",
    "        a_ampl = (lyam/4/np.pi) * (ray1 + ray2 + ray3 + ray4)\n",
    "        ph2 = -1*np.arctan2(np.imag(a_ampl), np.real(a_ampl))\n",
    "\n",
    "        a_db = 20*np.log10(np.abs(a_ampl)) + G\n",
    "        snr_db = a_db + 119 + 5.1\n",
    "        snr = 10**(snr_db/20)\n",
    "        H_det[2-i, 2-i2] = snr*np.exp(1j*ph2)\n",
    "#w = np.linalg.eigvals((H@H))\n",
    "#np.round(np.log2(abs(w)))\n",
    "p_det = -57.3*np.arctan2(np.imag(H_det), np.real(H_det))\n",
    "print(p_det)\n",
    "abs(H_det)"
   ]
  },
  {
   "cell_type": "code",
   "execution_count": 55,
   "metadata": {},
   "outputs": [
    {
     "name": "stdout",
     "output_type": "stream",
     "text": [
      "[[ -0.  -8. -30.]\n",
      " [ -8.  -0.  -8.]\n",
      " [-30.  -8.  -0.]]\n"
     ]
    },
    {
     "data": {
      "text/plain": [
       "array([[4051.37187606, 4049.85931107, 4045.33176072],\n",
       "       [4049.85931107, 4051.37187606, 4049.85931107],\n",
       "       [4045.33176072, 4049.85931107, 4051.37187606]])"
      ]
     },
     "execution_count": 55,
     "metadata": {},
     "output_type": "execute_result"
    }
   ],
   "source": [
    "# Free-space calculations\n",
    "offset = 0.0\n",
    "H_list = [[0 for i in range(3)] for i2 in range(3)]\n",
    "\n",
    "H_fs = np.array(H_list, dtype='complex')\n",
    "for i in range(3):\n",
    "    coord1 = list(coordinates1)\n",
    "    coord1[1] = delta_d*i    \n",
    "    for i2 in range(3):\n",
    "        coord2 = list(coordinates2)\n",
    "        coord2[1] = delta_d*i2\n",
    "\n",
    "        d1 = dist(coord1, coord2)\n",
    "        line1 = (1/d1) * np.exp(-1j*k*d1)\n",
    "        l1 = 1/d1\n",
    "        coord2_inv = list(coord2)\n",
    "        coord2_inv[2] = -coord2_inv[2]\n",
    "        d2 = dist(coord1, coord2_inv)\n",
    "        line2 = (1/d2) * np.exp(-1j*k*d2)\n",
    "        a_ampl = (lyam/4/np.pi) * (line1)\n",
    "        ph2 = -1*np.arctan2(np.imag(a_ampl), np.real(a_ampl))\n",
    "\n",
    "        a_db = 20*np.log10(np.abs(a_ampl)) + G\n",
    "        snr_db = a_db + 119 + 5.1\n",
    "        snr = 10**(snr_db/20)\n",
    "        H_fs[2-i, 2-i2] = snr*np.exp(1j*ph2)\n",
    "p_fs = -57.3*np.arctan2(np.imag(H_fs), np.real(H_fs))\n",
    "print(np.round(p_fs))\n",
    "abs(H2)"
   ]
  },
  {
   "cell_type": "code",
   "execution_count": 44,
   "metadata": {},
   "outputs": [
    {
     "name": "stdout",
     "output_type": "stream",
     "text": [
      "[[140.44556516  33.07406084   6.4864066 ]\n",
      " [157.86478756  30.25911284  15.92896986]\n",
      " [162.75111944  13.4791309   10.84229792]]\n"
     ]
    },
    {
     "data": {
      "text/plain": [
       "array([[4813.68804895, 2121.22321218, 5495.64888513],\n",
       "       [4398.67888317, 2463.48648709, 6207.37850787],\n",
       "       [4068.59685537, 2866.84682922, 6430.23373592]])"
      ]
     },
     "execution_count": 44,
     "metadata": {},
     "output_type": "execute_result"
    }
   ],
   "source": [
    "# Fading\n",
    "K_rice = 3\n",
    "H_fading = np.zeros([3, 3], dtype = 'complex')\n",
    "N_fading_times = 1\n",
    "for n in range(N_fading_times):\n",
    "    H_NLOS = H_fs @ (np.random.randn(3,3)+1j*np.random.randn(3,3))*np.sqrt(1/2/(K_rice+1))\n",
    "    H_LOS = H_fs * np.sqrt(K_rice/(K_rice+1))\n",
    "    H_fad_tmp = H_NLOS + H_LOS\n",
    "    H_fading += H_fad_tmp\n",
    "H_fading /= N_fading_times\n",
    "p_fading = -57.3*np.arctan2(np.imag(H_fading), np.real(H_fading))\n",
    "print(p_fading)\n",
    "abs(H_fading)"
   ]
  },
  {
   "cell_type": "code",
   "execution_count": 66,
   "metadata": {},
   "outputs": [
    {
     "name": "stdout",
     "output_type": "stream",
     "text": [
      "[[69.36239205 53.17166952 41.05878546]\n",
      " [63.03209836 48.0668666  39.02315783]\n",
      " [41.0956442  29.75050244 24.45272791]]\n"
     ]
    },
    {
     "data": {
      "text/plain": [
       "array([[3940.71994211, 4539.71966505, 4421.8023698 ],\n",
       "       [3614.39914323, 4656.61415697, 4813.74328815],\n",
       "       [3279.65517521, 4651.9680012 , 4947.15970318]])"
      ]
     },
     "execution_count": 66,
     "metadata": {},
     "output_type": "execute_result"
    }
   ],
   "source": [
    "from scipy.linalg import fractional_matrix_power\n",
    "\n",
    "#Rr = np.array([[1.0, 0.7, 0.4], [0.7, 1.0, 0.7], [0.4, 0.7, 1.0]])\n",
    "Rr = np.array([[1.0, 0.9, 0.7], [0.9, 1.0, 0.9], [0.7, 0.7, 1.0]])\n",
    "#Rr = np.array([[1.0, 1.0, 1.0], [1.0, 1.0, 1.0], [1.0, 1.0, 1.0]])\n",
    "#Rt = np.array([[1.0, 0.6, 0.4], [0.6, 1.0, 0.6], [0.4, 0.6, 1.0]])\n",
    "Rt = np.array(Rr)\n",
    "\n",
    "Rr_half = fractional_matrix_power(Rr, 0.5)\n",
    "Rt_half = fractional_matrix_power(Rt, 0.5)\n",
    "Rt_half_H = np.conj(Rt_half).T\n",
    "\n",
    "H_kron = np.dot(np.dot(H_fading, Rt_half_H), Rt_half_H)\n",
    "#Hw = H_fading / np.max(H_fs)\n",
    "#H_kron = np.dot(Rr_half, np.dot(H_fading, Rt_half_H))\n",
    "coef = np.sum(abs(H_fading)) / np.sum(abs(H_kron))\n",
    "\n",
    "p_kron = -57.3*np.arctan2(np.imag(H_kron), np.real(H_kron))\n",
    "print(p_kron)\n",
    "abs(H_kron*coef)"
   ]
  },
  {
   "cell_type": "code",
   "execution_count": 69,
   "metadata": {},
   "outputs": [
    {
     "name": "stdout",
     "output_type": "stream",
     "text": [
      "592.5828867067553 50.34000634571248\n",
      "511.6100168033556 48.76637493907999\n",
      "819.8470401131657 48.192815273693185\n",
      "1194.415645882367 99.07309339520205\n",
      "1066.0815311824713 71.17859818657604\n"
     ]
    }
   ],
   "source": [
    "# MAE\n",
    "def mae(a,b):\n",
    "    return (abs(a-b)).mean()\n",
    "\n",
    "mae_fs1 = mae(ampl, abs(H_fs))\n",
    "mae_fs2 = mae(phase0, -p_fs)\n",
    "\n",
    "mae_det1 = mae(ampl, abs(H_det))\n",
    "mae_det2 = mae(phase0, -p_det)\n",
    "\n",
    "mae_gbsm1 = mae(ampl, abs(H_gbsm))\n",
    "mae_gbsm2 = mae(phase0, -p_gbsm)\n",
    "\n",
    "mae_fading1 = mae(ampl, abs(H_fading))\n",
    "mae_fading2 = mae(phase0, -p_fading)\n",
    "\n",
    "mae_kron1 = mae(ampl, abs(H_kron))\n",
    "mae_kron2 = mae(phase0, -p_kron)\n",
    "\n",
    "print(mae_fs1, mae_fs2)\n",
    "print(mae_det1, mae_det2)\n",
    "print(mae_gbsm1, mae_gbsm2)\n",
    "print(mae_fading1, mae_fading2)\n",
    "print(mae_kron1, mae_kron2)\n"
   ]
  },
  {
   "cell_type": "code",
   "execution_count": 70,
   "metadata": {},
   "outputs": [],
   "source": [
    "# ITUR 1238\n",
    "N = 30\n",
    "log_f = 20*np.log10(fc*10**-6)\n",
    "for i in range(3):\n",
    "    coord1 = list(coordinates1)\n",
    "    coord1[1] = delta_d*i    \n",
    "    for j in range(3):\n",
    "        coord2 = list(coordinates2)\n",
    "        coord2[1] = delta_d*j\n",
    "        d = dist(coord1, coord2)\n",
    "        L_itur = log_f + N*np.log10(d) - 28\n",
    "        snr_itur = Pt - L_itur + 100 + 16\n",
    "        snr = 10**(snr_itur/20)"
   ]
  }
 ],
 "metadata": {
  "kernelspec": {
   "display_name": "Python 3",
   "language": "python",
   "name": "python3"
  },
  "language_info": {
   "codemirror_mode": {
    "name": "ipython",
    "version": 3
   },
   "file_extension": ".py",
   "mimetype": "text/x-python",
   "name": "python",
   "nbconvert_exporter": "python",
   "pygments_lexer": "ipython3",
   "version": "3.6.9"
  }
 },
 "nbformat": 4,
 "nbformat_minor": 4
}
